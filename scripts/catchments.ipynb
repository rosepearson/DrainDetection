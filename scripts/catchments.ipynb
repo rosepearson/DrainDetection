{
 "cells": [
  {
   "cell_type": "code",
   "execution_count": 15,
   "id": "5ec1f7e1",
   "metadata": {},
   "outputs": [],
   "source": [
    "import shapely\n",
    "import geopandas\n",
    "import pathlib\n",
    "import OSMPythonTools\n",
    "import OSMPythonTools.api\n",
    "import OSMPythonTools.overpass"
   ]
  },
  {
   "cell_type": "code",
   "execution_count": 11,
   "id": "2ce8f11b",
   "metadata": {},
   "outputs": [],
   "source": [
    "basepath = pathlib.Path(r\"C:\\Users\\pearsonra\\Documents\\data\\drain_detection\\catchments\")\n",
    "crs=2193"
   ]
  },
  {
   "cell_type": "markdown",
   "id": "e347ddda",
   "metadata": {},
   "source": [
    "# Functions"
   ]
  },
  {
   "cell_type": "code",
   "execution_count": 22,
   "id": "5f82213b",
   "metadata": {},
   "outputs": [],
   "source": [
    "def create_catchment(x0: float, y0: float, x1: float, y1: float, name:str) -> geopandas.GeoDataFrame:\n",
    "    catchment = geopandas.GeoDataFrame(geometry=[shapely.geometry.Polygon([[x0, y0], [x1, y0], [x1, y1], [x0, y1]])], crs=crs)\n",
    "    catchment_path = (basepath / name)\n",
    "    catchment_path.mkdir(parents=True, exist_ok=True)\n",
    "    catchment.to_file(catchment_path / \"catchment.geojson\")\n",
    "    return catchment"
   ]
  },
  {
   "cell_type": "markdown",
   "id": "4896a8d3",
   "metadata": {},
   "source": [
    "# Kiaipoi\n",
    "Create and save a catchment file and download and save drains in the catchment"
   ]
  },
  {
   "cell_type": "code",
   "execution_count": 18,
   "id": "8a9940e3",
   "metadata": {},
   "outputs": [],
   "source": [
    "name = \"kiaipoi\"\n",
    "x0 = 1556700\n",
    "y0 = 5204450\n",
    "x1 = 1571700\n",
    "y1 = 5193450"
   ]
  },
  {
   "cell_type": "markdown",
   "id": "f57153f0",
   "metadata": {},
   "source": [
    "Create and save catchment"
   ]
  },
  {
   "cell_type": "code",
   "execution_count": 24,
   "id": "14ec6879",
   "metadata": {},
   "outputs": [],
   "source": [
    "catchment = create_catchment(x0=x0, y0=y0, x1=x1, y1=y1, name=name)"
   ]
  },
  {
   "cell_type": "markdown",
   "id": "e3172378",
   "metadata": {},
   "source": [
    "Query OSM"
   ]
  },
  {
   "cell_type": "code",
   "execution_count": null,
   "id": "9cacf3c6",
   "metadata": {},
   "outputs": [],
   "source": [
    "def download_drains(catchment: geopandas.GeoDataFrame) -> geopandas.GeoDataFrame:\n",
    "    bbox_lat_long = catchment.to_crs('EPSG:4326').bounds\n",
    "    \n",
    "    query = overpassQueryBuilder(bbox=[bbox_lat_long.miny[0],\n",
    "                                   bbox_lat_long.minx[0],\n",
    "                                   bbox_lat_long.maxy[0],\n",
    "                                   bbox_lat_long.maxx[0]], \n",
    "                             elementType='way', selector='waterway',\n",
    "                             out='body', includeGeometry=True)"
   ]
  },
  {
   "cell_type": "code",
   "execution_count": null,
   "id": "39b6649c",
   "metadata": {},
   "outputs": [],
   "source": [
    "bbox_lat_long = bbox_nztm2000.to_crs('EPSG:4326')\n",
    "query = overpassQueryBuilder(bbox=[bbox_lat_long.bounds.miny[0],\n",
    "                                   bbox_lat_long.bounds.minx[0],\n",
    "                                   bbox_lat_long.bounds.maxy[0],\n",
    "                                   bbox_lat_long.bounds.maxx[0]], \n",
    "                             elementType='way', selector='waterway',\n",
    "                             out='body', includeGeometry=True)\n",
    "overpass = OSMPythonTools.overpass.Overpass()\n",
    "rivers = overpass.query(query)\n",
    "element_dict = {\n",
    "    'geometry': [],\n",
    "    'OSM_id': [],\n",
    "    'waterway': [],\n",
    "    'tunnel': [],\n",
    "}\n",
    "\n",
    "for element in rivers.elements():\n",
    "    element_dict['geometry'].append(element.geometry())\n",
    "    element_dict['OSM_id'].append(element.id())\n",
    "    element_dict['waterway'].append(element.tags()['waterway'])\n",
    "    element_dict['tunnel'].append('tunnel' in element.tags().keys())\n",
    "drains_df = geopandas.GeoDataFrame(element_dict, crs='EPSG:4326').to_crs('EPSG:2193')\n",
    "\n",
    "drain_width = 5\n",
    "drain_polygon = drains_df[drains_df.geometry.type == \"LineString\"].buffer(drain_width)\n",
    "drain_polygon = geopandas.GeoDataFrame(\n",
    "    geometry=[shapely.ops.unary_union(drain_polygon.geometry.array)],\n",
    "    crs=drain_polygon.crs,\n",
    ")\n",
    "drain_polygon = drain_polygon.clip(bbox_nztm2000)\n",
    "drain_polygon.plot()\n",
    "\n",
    "drains = drains[(drains['waterway'] != 'river') ]\n",
    "\n",
    "open_drains = drains[(drains['tunnel'] == False)]\n",
    "closed_drains = drains[drains['tunnel']]"
   ]
  },
  {
   "cell_type": "code",
   "execution_count": null,
   "id": "12f19e48",
   "metadata": {},
   "outputs": [],
   "source": []
  }
 ],
 "metadata": {
  "kernelspec": {
   "display_name": "Python [conda env:geofabrics]",
   "language": "python",
   "name": "conda-env-geofabrics-py"
  },
  "language_info": {
   "codemirror_mode": {
    "name": "ipython",
    "version": 3
   },
   "file_extension": ".py",
   "mimetype": "text/x-python",
   "name": "python",
   "nbconvert_exporter": "python",
   "pygments_lexer": "ipython3",
   "version": "3.9.12"
  }
 },
 "nbformat": 4,
 "nbformat_minor": 5
}
